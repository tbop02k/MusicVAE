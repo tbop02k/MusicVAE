{
 "cells": [
  {
   "cell_type": "code",
   "execution_count": 90,
   "id": "65d79e8f",
   "metadata": {},
   "outputs": [],
   "source": [
    "%matplotlib inline  \n",
    "\n",
    "import glob\n",
    "import os\n",
    "import re\n",
    "\n",
    "import matplotlib.pyplot as plt\n",
    "import pandas as pd\n",
    "import pretty_midi"
   ]
  },
  {
   "cell_type": "code",
   "execution_count": 126,
   "id": "d13e3a4c",
   "metadata": {},
   "outputs": [
    {
     "name": "stdout",
     "output_type": "stream",
     "text": [
      "total number of files\n"
     ]
    },
    {
     "data": {
      "text/plain": [
       "45537"
      ]
     },
     "execution_count": 126,
     "metadata": {},
     "output_type": "execute_result"
    }
   ],
   "source": [
    "# total number of files\n",
    "midi_dir = './e-gmd-v1.0.0/**/*.midi'\n",
    "\n",
    "print('total number of files')\n",
    "len(glob.glob(midi_dir, recursive=True))"
   ]
  },
  {
   "cell_type": "code",
   "execution_count": 127,
   "id": "86928f96",
   "metadata": {},
   "outputs": [],
   "source": [
    "def pretty_print_dict(input_dict):\n",
    "    for key, value in input_dict.items():\n",
    "        print(f'{key} : {value}')\n",
    "\n",
    "def midifile_iter():\n",
    "    for filepath in glob.glob(midi_dir, recursive=True):\n",
    "        yield filepath\n",
    "\n",
    "def midifile_basename_iter():    \n",
    "    for filepath in midifile_iter():\n",
    "        filename = os.path.basename(filepath).replace('.mid','')\n",
    "        yield filename\n",
    "        \n",
    "def pretty_mid_iter():\n",
    "    for filepath in midifile_iter():\n",
    "        pm = pretty_midi.PrettyMIDI(filepath)\n",
    "        yield pm"
   ]
  },
  {
   "cell_type": "markdown",
   "id": "43f79798",
   "metadata": {},
   "source": [
    "### genre counts"
   ]
  },
  {
   "cell_type": "code",
   "execution_count": 73,
   "id": "2c9343fd",
   "metadata": {},
   "outputs": [
    {
     "name": "stdout",
     "output_type": "stream",
     "text": [
      "Genre counts\n",
      "funk : 233\n",
      "rock : 362\n",
      "soul : 63\n",
      "groove : 40\n",
      "hiphop : 95\n",
      "pop : 27\n",
      "neworleans : 53\n",
      "secondline : 3\n",
      "dance : 7\n",
      "disco : 5\n",
      "jazz : 101\n",
      "latin : 99\n",
      "brazilian : 57\n",
      "baiao : 32\n",
      "afrocuban : 60\n",
      "reggae : 20\n",
      "halftime : 37\n",
      "purdieshuffle : 30\n",
      "samba : 24\n",
      "shuffle : 9\n",
      "reggaeton : 1\n",
      "breakbeat : 2\n",
      "country : 29\n",
      "prog : 3\n",
      "bembe : 30\n",
      "gospel : 19\n",
      "rhumba : 19\n",
      "chacarera : 3\n",
      "punk : 58\n",
      "march : 3\n",
      "folk : 1\n",
      "afrobeat : 13\n",
      "bomba : 1\n",
      "calypso : 2\n",
      "swing : 11\n",
      "rockabilly : 1\n",
      "linear : 2\n",
      "klezmer : 1\n",
      "blues : 4\n",
      "merengue : 3\n",
      "sambareggae : 3\n",
      "songo : 5\n",
      "middleeastern : 1\n",
      "bossa : 2\n",
      "maracatu : 2\n",
      "venezuelan : 3\n",
      "dominican : 1\n",
      "joropo : 1\n",
      "ando : 1\n",
      "ijexa : 3\n",
      "sangueo : 1\n",
      "frevo : 1\n",
      "chacha : 1\n",
      "motown : 16\n",
      "fusion : 11\n",
      "indie : 10\n",
      "bounce : 2\n",
      "highlife : 2\n",
      "Total number of genres : 58\n"
     ]
    }
   ],
   "source": [
    "no_genres = [\n",
    "    'fill',\n",
    "    'fast',\n",
    "    'beat',\n",
    "    'slow',\n",
    "    'mediumfast',\n",
    "    'soft'\n",
    "]\n",
    "\n",
    "dict_genre_count= dict()\n",
    "unique_genre = set()\n",
    "for filename in midifile_basename_iter():    \n",
    "    genres = re.findall('[A-Za-z]+', filename)    \n",
    "    \n",
    "    for genre in genres:\n",
    "        if genre not in no_genres:\n",
    "            dict_genre_count[genre] = dict_genre_count.get(genre,0) + 1    \n",
    "\n",
    "print(f'Genre counts')\n",
    "pretty_print_dict(dict_genre_count)\n",
    "\n",
    "print(f'Total number of genres : {len(dict_genre_count.keys())}')"
   ]
  },
  {
   "cell_type": "markdown",
   "id": "ce479bd4",
   "metadata": {},
   "source": [
    "### Midifile information"
   ]
  },
  {
   "cell_type": "code",
   "execution_count": 112,
   "id": "a7945cd9",
   "metadata": {},
   "outputs": [
    {
     "name": "stdout",
     "output_type": "stream",
     "text": [
      "4/4 : 1140\n",
      "5/4 : 1\n",
      "3/4 : 5\n",
      "5/8 : 1\n",
      "6/8 : 5\n"
     ]
    }
   ],
   "source": [
    "# time signiture count\n",
    "dict_TS_counts = dict()\n",
    "\n",
    "for pm in pretty_mid_iter():\n",
    "    numerator = pm.time_signature_changes[0].numerator\n",
    "    denominator = pm.time_signature_changes[0].denominator\n",
    "    \n",
    "    time_signiture = str(numerator) + '/' + str(denominator)    \n",
    "    dict_TS_counts[time_signiture] = dict_TS_counts.get(time_signiture,0)+1\n",
    "\n",
    "pretty_print_dict(dict_TS_counts)"
   ]
  },
  {
   "cell_type": "code",
   "execution_count": 101,
   "id": "20c8cc82",
   "metadata": {},
   "outputs": [],
   "source": [
    "# play time \n",
    "list_end_time = []\n",
    "for pm in pretty_mid_iter():\n",
    "    \n",
    "    list_end_time.append(pm.get_end_time() - pm.get_onsets()[0])\n",
    "\n",
    "Series_end_time = pd.Series(list_end_time)\n",
    "\n",
    "plt.figure(figsize = (16,8))\n",
    "plt.xlim([0, 100])\n",
    "Series_end_time.hist(bins=1000)"
   ]
  }
 ],
 "metadata": {
  "kernelspec": {
   "display_name": "music",
   "language": "python",
   "name": "music"
  },
  "language_info": {
   "codemirror_mode": {
    "name": "ipython",
    "version": 3
   },
   "file_extension": ".py",
   "mimetype": "text/x-python",
   "name": "python",
   "nbconvert_exporter": "python",
   "pygments_lexer": "ipython3",
   "version": "3.7.0"
  }
 },
 "nbformat": 4,
 "nbformat_minor": 5
}
